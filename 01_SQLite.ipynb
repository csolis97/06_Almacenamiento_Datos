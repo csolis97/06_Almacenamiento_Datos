{
 "cells": [
  {
   "cell_type": "markdown",
   "metadata": {},
   "source": [
    "# Python y SQLite"
   ]
  },
  {
   "cell_type": "code",
   "execution_count": 1,
   "metadata": {},
   "outputs": [],
   "source": [
    "import sqlite3"
   ]
  },
  {
   "cell_type": "code",
   "execution_count": 2,
   "metadata": {},
   "outputs": [],
   "source": [
    "# Crea conexión a la base de datos SQLite / si NO existe, se crea\n",
    "conn = sqlite3.connect('2024_bd.db')"
   ]
  },
  {
   "cell_type": "code",
   "execution_count": 3,
   "metadata": {},
   "outputs": [],
   "source": [
    "# Crea un curosor que permite ejecutar comandos SQL / Objeto que envia comandos SQL \n",
    "cursor = conn.cursor()"
   ]
  },
  {
   "cell_type": "code",
   "execution_count": 4,
   "metadata": {},
   "outputs": [
    {
     "data": {
      "text/plain": [
       "<sqlite3.Cursor at 0x19abf1f62c0>"
      ]
     },
     "execution_count": 4,
     "metadata": {},
     "output_type": "execute_result"
    }
   ],
   "source": [
    "# Ejecuta un comando SQL para creación de tabla\n",
    "esquema_sql= '''\n",
    "BEGIN TRANSACTION;\n",
    "DROP TABLE IF EXISTS usuarios;\n",
    "CREATE TABLE IF NOT EXISTS usuarios(\n",
    "    id INTEGER PRIMARY KEY,\n",
    "    nombre TEXT,\n",
    "    edad INTEGER\n",
    "); \n",
    "COMMIT;\n",
    "'''\n",
    "cursor.executescript(esquema_sql)"
   ]
  },
  {
   "cell_type": "code",
   "execution_count": 5,
   "metadata": {},
   "outputs": [
    {
     "data": {
      "text/plain": [
       "<sqlite3.Cursor at 0x19abf1f62c0>"
      ]
     },
     "execution_count": 5,
     "metadata": {},
     "output_type": "execute_result"
    }
   ],
   "source": [
    "# Ejecuta comando SQL para insertar datos\n",
    "cursor.execute('INSERT INTO usuarios(id,nombre,edad) VALUES (1,\"Alice\",30)') #Cargo unicamente un dato\n",
    "cursor.execute('INSERT INTO usuarios(id,nombre,edad) VALUES (2,\"Bob\",25)') #Cargo unicamente un dato\n",
    "cursor.execute('INSERT INTO usuarios(id,nombre,edad) VALUES (3,\"Charlie\",35)') #Cargo unicamente un dato\n"
   ]
  },
  {
   "cell_type": "code",
   "execution_count": 6,
   "metadata": {},
   "outputs": [
    {
     "data": {
      "text/plain": [
       "<sqlite3.Cursor at 0x19abf1f62c0>"
      ]
     },
     "execution_count": 6,
     "metadata": {},
     "output_type": "execute_result"
    }
   ],
   "source": [
    "# Ejecuta comando SQL para insertar multiple datos\n",
    "# Listas de datos\n",
    "usuarios = [(4,\"Juanito\",24),(5,\"Maria\",25),(6,\"Pedro\",26)]\n",
    "\n",
    "#Inserta los datos\n",
    "cursor.executemany('INSERT INTO usuarios(id,nombre,edad) VALUES(?,?,?)', usuarios)"
   ]
  },
  {
   "cell_type": "code",
   "execution_count": 7,
   "metadata": {},
   "outputs": [
    {
     "data": {
      "text/plain": [
       "3"
      ]
     },
     "execution_count": 7,
     "metadata": {},
     "output_type": "execute_result"
    }
   ],
   "source": [
    "# Ejecuto codigo para carga de datos de usuarios desde .CSV\n",
    "import pandas as pd\n",
    "\n",
    "# Declaro DF a leer\n",
    "archivo_csv = r'C:\\Users\\csolis\\OneDrive - Nutreco Nederland B.V\\Documents\\DOCUMENTOS PERSONALES\\Estudio\\06_Almacenamiento_Datos\\01_Datos\\usuarios.csv'\n",
    "DF = pd.read_csv(archivo_csv, delimiter=';') \n",
    "# Comando SQL para insertar\n",
    "DF.to_sql('usuarios', conn,if_exists='append',index=False)"
   ]
  },
  {
   "cell_type": "code",
   "execution_count": 8,
   "metadata": {},
   "outputs": [],
   "source": [
    "# Confirmo los cambios en la base de datos\n",
    "conn.commit()"
   ]
  },
  {
   "cell_type": "markdown",
   "metadata": {},
   "source": [
    "# Consultas"
   ]
  },
  {
   "cell_type": "code",
   "execution_count": 9,
   "metadata": {},
   "outputs": [
    {
     "name": "stdout",
     "output_type": "stream",
     "text": [
      "Usuarios de la BD:\n",
      "(1, 'Alice', 30)\n",
      "(2, 'Bob', 25)\n",
      "(3, 'Charlie', 35)\n",
      "(4, 'Juanito', 24)\n",
      "(5, 'Maria', 25)\n",
      "(6, 'Pedro', 26)\n",
      "(7, 'Jorge', 40)\n",
      "(8, 'Valeria', 32)\n",
      "(9, 'Felipe', 25)\n"
     ]
    }
   ],
   "source": [
    "# Realizo consulta\n",
    "cursor.execute('SELECT * FROM usuarios')\n",
    "datos_usuarios= cursor.fetchall() # Último resultado de la ultima ejecución de execute\n",
    "print(\"Usuarios de la BD:\")\n",
    "for usuario in datos_usuarios:\n",
    "    print(usuario)"
   ]
  },
  {
   "cell_type": "code",
   "execution_count": 10,
   "metadata": {},
   "outputs": [],
   "source": [
    "# Cierro la  BD\n",
    "conn.close()"
   ]
  }
 ],
 "metadata": {
  "kernelspec": {
   "display_name": "ciencia_de_redes",
   "language": "python",
   "name": "python3"
  },
  "language_info": {
   "codemirror_mode": {
    "name": "ipython",
    "version": 3
   },
   "file_extension": ".py",
   "mimetype": "text/x-python",
   "name": "python",
   "nbconvert_exporter": "python",
   "pygments_lexer": "ipython3",
   "version": "3.12.7"
  }
 },
 "nbformat": 4,
 "nbformat_minor": 2
}
