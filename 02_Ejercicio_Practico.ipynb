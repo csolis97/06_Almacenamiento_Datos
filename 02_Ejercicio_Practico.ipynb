{
 "cells": [
  {
   "cell_type": "markdown",
   "metadata": {},
   "source": [
    "# Ejercicio Análisis de Datos de Ventas con SQLite en Python\n",
    "\n",
    "### **Objetivo:** \n",
    "Utilizar Python y SQLite para crear una base de datos, cargar datos y realizar consultas para analizar los datos de ventas de una empresa ficticia, todo dentro de un notebook de Python."
   ]
  },
  {
   "cell_type": "markdown",
   "metadata": {},
   "source": [
    "###  **Parte 1: Creación de la Base de Datos y Tablas**\n",
    "\n",
    "**1. Conexión a SQLite**\n",
    "- Utilizar la librería `sqlite3` para establecer una conexión con una base de datos llamada `ventas_tecnologia.db`. Si la base de datos no existe, se creará automáticamente.\n",
    "\n",
    "**2. Creación de Tablas**\n",
    "Se emplean comandos SQL dentro de un script en Python para definir la estructura de las siguientes tablas:\n",
    "\n",
    "**a) Tabla `Productos`**\n",
    "- Columnas:\n",
    "  - `id_producto` (INT, clave primaria): Identificador único del producto.\n",
    "  - `nombre_producto` (TEXT): Nombre del producto.\n",
    "  - `precio` (REAL): Precio del producto.\n",
    "  - `categoria` (TEXT): Categoría a la que pertenece el producto.\n",
    "\n",
    "**b) Tabla `Clientes`**\n",
    "- Columnas:\n",
    "  - `id_cliente` (INT, clave primaria): Identificador único del cliente.\n",
    "  - `nombre_cliente` (TEXT): Nombre del cliente.\n",
    "  - `email` (TEXT): Dirección de correo electrónico del cliente.\n",
    "\n",
    "**c) Tabla `Ventas`**\n",
    "- Columnas:\n",
    "  - `id_venta` (INT, clave primaria): Identificador único de la venta.\n",
    "  - `fecha_venta` (DATE): Fecha en que se realizó la venta.\n",
    "  - `id_cliente` (INT, clave foránea): Relación con la tabla `Clientes` (quién realizó la compra).\n",
    "  - `id_producto` (INT, clave foránea): Relación con la tabla `Productos` (qué producto se compró).\n",
    "  - `cantidad` (INT): Número de unidades vendidas del producto.\n"
   ]
  },
  {
   "cell_type": "code",
   "execution_count": 1,
   "metadata": {},
   "outputs": [
    {
     "name": "stdout",
     "output_type": "stream",
     "text": [
      "Tablas creadas exitosamente.\n"
     ]
    }
   ],
   "source": [
    "import sqlite3\n",
    "\n",
    "# Crear conexión y cursor\n",
    "conn = sqlite3.connect('ventas_tecnologia.db')\n",
    "cursor = conn.cursor()\n",
    "\n",
    "# Crear tablas\n",
    "cursor.executescript('''\n",
    "DROP TABLE IF EXISTS Productos;\n",
    "DROP TABLE IF EXISTS Clientes;\n",
    "DROP TABLE IF EXISTS Ventas;\n",
    "\n",
    "CREATE TABLE Productos (\n",
    "    id_producto INTEGER PRIMARY KEY,\n",
    "    nombre_producto TEXT NOT NULL,\n",
    "    precio REAL NOT NULL,\n",
    "    categoria TEXT NOT NULL\n",
    ");\n",
    "\n",
    "CREATE TABLE Clientes (\n",
    "    id_cliente INTEGER PRIMARY KEY,\n",
    "    nombre_cliente TEXT NOT NULL,\n",
    "    email TEXT NOT NULL\n",
    ");\n",
    "\n",
    "CREATE TABLE Ventas (\n",
    "    id_venta INTEGER PRIMARY KEY,\n",
    "    fecha_venta DATE NOT NULL,\n",
    "    id_cliente INTEGER NOT NULL,\n",
    "    id_producto INTEGER NOT NULL,\n",
    "    cantidad INTEGER NOT NULL,\n",
    "    FOREIGN KEY (id_cliente) REFERENCES Clientes(id_cliente),\n",
    "    FOREIGN KEY (id_producto) REFERENCES Productos(id_producto)\n",
    ");\n",
    "''')\n",
    "\n",
    "print(\"Tablas creadas exitosamente.\")\n",
    "conn.commit()\n"
   ]
  },
  {
   "cell_type": "markdown",
   "metadata": {},
   "source": [
    "###  **Parte 2: Cargar Datos**\n",
    " \n",
    "  \n",
    "**1. Generar Datos Ficticios: Escribir un script en Python para generar datos ficticios para Productos, Clientes y Ventas. Usar por ejemplo módulos random y Faker.**\n",
    "\n",
    "\n",
    "**2. Cargar los Datos: Usar sqlite3 para insertar los datos generados en las tablas correspondientes.**\n"
   ]
  },
  {
   "cell_type": "code",
   "execution_count": 3,
   "metadata": {},
   "outputs": [
    {
     "name": "stdout",
     "output_type": "stream",
     "text": [
      "Collecting Faker\n",
      "  Downloading Faker-33.1.0-py3-none-any.whl.metadata (15 kB)\n",
      "Requirement already satisfied: python-dateutil>=2.4 in c:\\users\\csolis\\appdata\\local\\anaconda3\\envs\\ciencia_de_redes\\lib\\site-packages (from Faker) (2.9.0.post0)\n",
      "Requirement already satisfied: typing-extensions in c:\\users\\csolis\\appdata\\local\\anaconda3\\envs\\ciencia_de_redes\\lib\\site-packages (from Faker) (4.12.2)\n",
      "Requirement already satisfied: six>=1.5 in c:\\users\\csolis\\appdata\\local\\anaconda3\\envs\\ciencia_de_redes\\lib\\site-packages (from python-dateutil>=2.4->Faker) (1.16.0)\n",
      "Downloading Faker-33.1.0-py3-none-any.whl (1.9 MB)\n",
      "   ---------------------------------------- 0.0/1.9 MB ? eta -:--:--\n",
      "   ---------------------------------------- 1.9/1.9 MB 17.3 MB/s eta 0:00:00\n",
      "Installing collected packages: Faker\n",
      "Successfully installed Faker-33.1.0\n"
     ]
    }
   ],
   "source": [
    "!pip install Faker"
   ]
  },
  {
   "cell_type": "code",
   "execution_count": 4,
   "metadata": {},
   "outputs": [
    {
     "name": "stdout",
     "output_type": "stream",
     "text": [
      "Datos cargados exitosamente.\n"
     ]
    },
    {
     "name": "stderr",
     "output_type": "stream",
     "text": [
      "C:\\Users\\csolis\\AppData\\Local\\Temp\\ipykernel_1524\\1798373847.py:31: DeprecationWarning: The default date adapter is deprecated as of Python 3.12; see the sqlite3 documentation for suggested replacement recipes\n",
      "  cursor.executemany(\"INSERT INTO Ventas VALUES (?, ?, ?, ?, ?)\", ventas)\n"
     ]
    }
   ],
   "source": [
    "import random\n",
    "from faker import Faker\n",
    "from datetime import datetime, timedelta\n",
    "\n",
    "fake = Faker()\n",
    "\n",
    "# Generar datos para la tabla Productos\n",
    "productos = [\n",
    "    (1, \"Laptop\", 800.0, \"Electrónica\"),\n",
    "    (2, \"Smartphone\", 600.0, \"Electrónica\"),\n",
    "    (3, \"Impresora\", 150.0, \"Oficina\"),\n",
    "    (4, \"Monitor\", 200.0, \"Electrónica\"),\n",
    "    (5, \"Teclado\", 50.0, \"Oficina\"),\n",
    "]\n",
    "cursor.executemany(\"INSERT INTO Productos VALUES (?, ?, ?, ?)\", productos)\n",
    "\n",
    "# Generar datos para la tabla Clientes\n",
    "clientes = [(i, fake.name(), fake.email()) for i in range(1, 21)]\n",
    "cursor.executemany(\"INSERT INTO Clientes VALUES (?, ?, ?)\", clientes)\n",
    "\n",
    "# Generar datos para la tabla Ventas\n",
    "ventas = []\n",
    "for i in range(1, 101):\n",
    "    id_venta = i\n",
    "    fecha_venta = fake.date_between(start_date='-1y', end_date='today')\n",
    "    id_cliente = random.randint(1, 20)\n",
    "    id_producto = random.randint(1, 5)\n",
    "    cantidad = random.randint(1, 10)\n",
    "    ventas.append((id_venta, fecha_venta, id_cliente, id_producto, cantidad))\n",
    "\n",
    "cursor.executemany(\"INSERT INTO Ventas VALUES (?, ?, ?, ?, ?)\", ventas)\n",
    "\n",
    "print(\"Datos cargados exitosamente.\")\n",
    "conn.commit()\n"
   ]
  },
  {
   "cell_type": "markdown",
   "metadata": {},
   "source": [
    "### **Parte 3: Consultas y Análisis de Datos con SQL**  \n",
    "\n",
    "**Realizar Consultas SQL: Usar Python para ejecutar consultas SQL y obtener datos de la base de datos. Las consultas deben incluir:**\n",
    "\n",
    "**a) Lista de todas las ventas.**  \n",
    "**b)Total de ventas por categoría de producto.**  \n",
    "**c)Cinco clientes con mayor número de compras.**  \n",
    "**d)Análisis de ventas mensuales a lo largo de un año.**  "
   ]
  },
  {
   "cell_type": "code",
   "execution_count": 5,
   "metadata": {},
   "outputs": [
    {
     "name": "stdout",
     "output_type": "stream",
     "text": [
      "(1, '2024-02-17', 'James Oliver', 'Impresora', 7)\n",
      "(2, '2024-06-07', 'Denise Harris', 'Monitor', 8)\n",
      "(3, '2024-03-06', 'Marie Turner', 'Smartphone', 3)\n",
      "(4, '2024-01-10', 'Matthew Martinez', 'Monitor', 7)\n",
      "(5, '2024-03-16', 'John Watson', 'Smartphone', 3)\n",
      "(6, '2024-09-25', 'Angelica Ellis', 'Laptop', 4)\n",
      "(7, '2024-11-20', 'Marie Turner', 'Laptop', 10)\n",
      "(8, '2024-05-21', 'Rachel Mckee', 'Teclado', 4)\n",
      "(9, '2024-10-27', 'Angelica Ellis', 'Impresora', 6)\n",
      "(10, '2023-12-14', 'Bonnie Oconnell', 'Impresora', 6)\n",
      "(11, '2024-02-20', 'Matthew Acosta', 'Laptop', 6)\n",
      "(12, '2024-10-31', 'Isaac Rush', 'Smartphone', 2)\n",
      "(13, '2024-02-23', 'Amy Stout', 'Monitor', 5)\n",
      "(14, '2024-04-18', 'Angelica Ellis', 'Monitor', 10)\n",
      "(15, '2024-01-21', 'Amy Stout', 'Teclado', 6)\n",
      "(16, '2024-07-01', 'Rachel Mckee', 'Impresora', 5)\n",
      "(17, '2024-11-06', 'Jonathan Jacobs Jr.', 'Smartphone', 4)\n",
      "(18, '2024-04-25', 'Jonathan Jacobs Jr.', 'Smartphone', 2)\n",
      "(19, '2024-10-03', 'Amy Stout', 'Smartphone', 1)\n",
      "(20, '2024-08-24', 'Isaac Rush', 'Teclado', 6)\n",
      "(21, '2024-02-07', 'Matthew Acosta', 'Monitor', 4)\n",
      "(22, '2024-02-15', 'Steven Cortez', 'Impresora', 1)\n",
      "(23, '2024-03-05', 'Matthew Martinez', 'Laptop', 7)\n",
      "(24, '2024-09-23', 'Bonnie Oconnell', 'Laptop', 9)\n",
      "(25, '2024-03-17', 'Matthew Martinez', 'Impresora', 4)\n",
      "(26, '2024-04-29', 'Amy Stout', 'Laptop', 9)\n",
      "(27, '2024-03-31', 'Denise Harris', 'Teclado', 2)\n",
      "(28, '2024-02-13', 'Rachel Mckee', 'Impresora', 8)\n",
      "(29, '2024-09-14', 'Matthew Acosta', 'Laptop', 2)\n",
      "(30, '2024-06-18', 'Katie Lopez', 'Teclado', 8)\n",
      "(31, '2024-09-02', 'Denise Harris', 'Smartphone', 7)\n",
      "(32, '2024-01-15', 'Becky Brown', 'Impresora', 8)\n",
      "(33, '2024-10-04', 'Bonnie Oconnell', 'Laptop', 8)\n",
      "(34, '2024-06-14', 'James Oliver', 'Smartphone', 5)\n",
      "(35, '2024-01-29', 'Angelica Ellis', 'Impresora', 5)\n",
      "(36, '2024-11-25', 'James Leach', 'Monitor', 2)\n",
      "(37, '2024-01-29', 'Isaac Rush', 'Laptop', 8)\n",
      "(38, '2024-09-03', 'Denise Harris', 'Monitor', 4)\n",
      "(39, '2024-08-05', 'Jonathan Jacobs Jr.', 'Smartphone', 7)\n",
      "(40, '2024-01-02', 'Steven Cortez', 'Impresora', 3)\n",
      "(41, '2024-03-29', 'Michael Moore', 'Smartphone', 4)\n",
      "(42, '2024-10-02', 'Denise Harris', 'Impresora', 1)\n",
      "(43, '2024-03-19', 'Steven Cortez', 'Laptop', 4)\n",
      "(44, '2024-03-29', 'Marie Turner', 'Monitor', 6)\n",
      "(45, '2024-03-28', 'Bonnie Oconnell', 'Teclado', 6)\n",
      "(46, '2024-10-30', 'Isaac Rush', 'Teclado', 10)\n",
      "(47, '2024-09-19', 'Steven Cortez', 'Smartphone', 9)\n",
      "(48, '2023-12-10', 'Becky Brown', 'Impresora', 8)\n",
      "(49, '2024-07-10', 'Michael Moore', 'Impresora', 10)\n",
      "(50, '2023-12-20', 'Tiffany Barton', 'Monitor', 3)\n",
      "(51, '2024-07-01', 'Denise Harris', 'Impresora', 4)\n",
      "(52, '2024-07-29', 'Tiffany Barton', 'Teclado', 3)\n",
      "(53, '2024-05-16', 'Matthew Acosta', 'Laptop', 2)\n",
      "(54, '2024-02-26', 'Ryan Sullivan', 'Monitor', 7)\n",
      "(55, '2024-02-19', 'Becky Brown', 'Monitor', 7)\n",
      "(56, '2024-07-18', 'Jonathan Jacobs Jr.', 'Laptop', 6)\n",
      "(57, '2024-06-05', 'James Leach', 'Smartphone', 10)\n",
      "(58, '2023-12-05', 'Amy Stout', 'Smartphone', 8)\n",
      "(59, '2024-07-02', 'Amy Stout', 'Smartphone', 1)\n",
      "(60, '2024-06-10', 'Tiffany Barton', 'Teclado', 8)\n",
      "(61, '2023-12-30', 'Isaac Rush', 'Monitor', 6)\n",
      "(62, '2024-08-25', 'Bonnie Oconnell', 'Smartphone', 4)\n",
      "(63, '2023-12-28', 'Isaac Rush', 'Monitor', 1)\n",
      "(64, '2024-07-29', 'Katie Lopez', 'Laptop', 7)\n",
      "(65, '2024-08-05', 'Jonathan Jacobs Jr.', 'Teclado', 10)\n",
      "(66, '2024-10-20', 'Angelica Ellis', 'Monitor', 3)\n",
      "(67, '2024-11-19', 'Becky Brown', 'Monitor', 5)\n",
      "(68, '2024-08-28', 'Michael Moore', 'Smartphone', 1)\n",
      "(69, '2024-10-09', 'Cassidy Hernandez', 'Teclado', 8)\n",
      "(70, '2024-05-01', 'Katie Lopez', 'Impresora', 6)\n",
      "(71, '2024-09-18', 'Denise Harris', 'Teclado', 4)\n",
      "(72, '2024-09-09', 'Cassidy Hernandez', 'Monitor', 9)\n",
      "(73, '2024-11-13', 'James Oliver', 'Impresora', 7)\n",
      "(74, '2024-11-04', 'Steven Cortez', 'Monitor', 10)\n",
      "(75, '2024-01-24', 'Matthew Acosta', 'Smartphone', 3)\n",
      "(76, '2024-11-27', 'Matthew Martinez', 'Laptop', 6)\n",
      "(77, '2024-03-21', 'Amy Stout', 'Smartphone', 6)\n",
      "(78, '2024-01-06', 'Katie Lopez', 'Smartphone', 10)\n",
      "(79, '2023-12-06', 'Ryan Sullivan', 'Teclado', 5)\n",
      "(80, '2024-05-22', 'Tiffany Barton', 'Laptop', 8)\n",
      "(81, '2024-03-21', 'Ryan Sullivan', 'Teclado', 9)\n",
      "(82, '2024-09-05', 'Jonathan Jacobs Jr.', 'Monitor', 9)\n",
      "(83, '2024-01-13', 'Matthew Martinez', 'Laptop', 5)\n",
      "(84, '2024-09-11', 'John Watson', 'Laptop', 1)\n",
      "(85, '2024-05-04', 'Ryan Sullivan', 'Smartphone', 1)\n",
      "(86, '2024-11-13', 'James Oliver', 'Laptop', 7)\n",
      "(87, '2024-06-27', 'Matthew Martinez', 'Laptop', 9)\n",
      "(88, '2024-10-31', 'Cassidy Hernandez', 'Impresora', 10)\n",
      "(89, '2023-12-03', 'Katie Lopez', 'Smartphone', 3)\n",
      "(90, '2024-07-31', 'Rachel Mckee', 'Teclado', 4)\n",
      "(91, '2024-03-28', 'Rachel Mckee', 'Smartphone', 5)\n",
      "(92, '2024-10-05', 'Rachel Mckee', 'Smartphone', 9)\n",
      "(93, '2024-06-20', 'Tiffany Barton', 'Monitor', 2)\n",
      "(94, '2024-11-19', 'Rachel Mckee', 'Monitor', 2)\n",
      "(95, '2024-04-18', 'Rachel Mckee', 'Laptop', 6)\n",
      "(96, '2024-04-28', 'Steven Cortez', 'Teclado', 1)\n",
      "(97, '2023-12-05', 'Isaac Rush', 'Monitor', 1)\n",
      "(98, '2024-05-29', 'Matthew Martinez', 'Teclado', 10)\n",
      "(99, '2023-12-14', 'Matthew Acosta', 'Teclado', 7)\n",
      "(100, '2024-05-31', 'Steven Cortez', 'Laptop', 2)\n"
     ]
    }
   ],
   "source": [
    "# Consulta: Listar todas las ventas\n",
    "cursor.execute('''\n",
    "SELECT V.id_venta, V.fecha_venta, C.nombre_cliente, P.nombre_producto, V.cantidad\n",
    "FROM Ventas V\n",
    "JOIN Clientes C ON V.id_cliente = C.id_cliente\n",
    "JOIN Productos P ON V.id_producto = P.id_producto\n",
    "''')\n",
    "ventas = cursor.fetchall()\n",
    "for venta in ventas:\n",
    "    print(venta)\n"
   ]
  },
  {
   "cell_type": "code",
   "execution_count": 6,
   "metadata": {},
   "outputs": [
    {
     "name": "stdout",
     "output_type": "stream",
     "text": [
      "('Electrónica', 187800.0)\n",
      "('Oficina', 20400.0)\n"
     ]
    }
   ],
   "source": [
    "# Consulta: Total de ventas por categoría\n",
    "cursor.execute('''\n",
    "SELECT P.categoria, SUM(V.cantidad * P.precio) AS total_ventas\n",
    "FROM Ventas V\n",
    "JOIN Productos P ON V.id_producto = P.id_producto\n",
    "GROUP BY P.categoria\n",
    "''')\n",
    "categorias = cursor.fetchall()\n",
    "for categoria in categorias:\n",
    "    print(categoria)\n"
   ]
  },
  {
   "cell_type": "code",
   "execution_count": 7,
   "metadata": {},
   "outputs": [
    {
     "name": "stdout",
     "output_type": "stream",
     "text": [
      "('Rachel Mckee', 8)\n",
      "('Denise Harris', 7)\n",
      "('Matthew Martinez', 7)\n",
      "('Amy Stout', 7)\n",
      "('Steven Cortez', 7)\n"
     ]
    }
   ],
   "source": [
    "# Consulta: Top 5 clientes con mayor número de compras\n",
    "cursor.execute('''\n",
    "SELECT C.nombre_cliente, COUNT(V.id_venta) AS total_compras\n",
    "FROM Ventas V\n",
    "JOIN Clientes C ON V.id_cliente = C.id_cliente\n",
    "GROUP BY V.id_cliente\n",
    "ORDER BY total_compras DESC\n",
    "LIMIT 5\n",
    "''')\n",
    "clientes_top = cursor.fetchall()\n",
    "for cliente in clientes_top:\n",
    "    print(cliente)\n"
   ]
  },
  {
   "cell_type": "code",
   "execution_count": 8,
   "metadata": {},
   "outputs": [
    {
     "name": "stdout",
     "output_type": "stream",
     "text": [
      "('2023-12', 11500.0)\n",
      "('2024-01', 22300.0)\n",
      "('2024-02', 11800.0)\n",
      "('2024-03', 24050.0)\n",
      "('2024-04', 15250.0)\n",
      "('2024-05', 11800.0)\n",
      "('2024-06', 19000.0)\n",
      "('2024-07', 14200.0)\n",
      "('2024-08', 8000.0)\n",
      "('2024-09', 27000.0)\n",
      "('2024-10', 17650.0)\n",
      "('2024-11', 25650.0)\n"
     ]
    }
   ],
   "source": [
    "# Consulta: Ventas mensuales\n",
    "cursor.execute('''\n",
    "SELECT strftime('%Y-%m', fecha_venta) AS mes, SUM(cantidad * P.precio) AS total_ventas\n",
    "FROM Ventas V\n",
    "JOIN Productos P ON V.id_producto = P.id_producto\n",
    "GROUP BY mes\n",
    "ORDER BY mes\n",
    "''')\n",
    "ventas_mensuales = cursor.fetchall()\n",
    "for mes in ventas_mensuales:\n",
    "    print(mes)\n"
   ]
  },
  {
   "cell_type": "code",
   "execution_count": 9,
   "metadata": {},
   "outputs": [],
   "source": [
    "# Cierro la  BD\n",
    "conn.close()"
   ]
  }
 ],
 "metadata": {
  "kernelspec": {
   "display_name": "ciencia_de_redes",
   "language": "python",
   "name": "python3"
  },
  "language_info": {
   "codemirror_mode": {
    "name": "ipython",
    "version": 3
   },
   "file_extension": ".py",
   "mimetype": "text/x-python",
   "name": "python",
   "nbconvert_exporter": "python",
   "pygments_lexer": "ipython3",
   "version": "3.12.7"
  }
 },
 "nbformat": 4,
 "nbformat_minor": 2
}
