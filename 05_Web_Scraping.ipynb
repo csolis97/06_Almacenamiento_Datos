{
 "cells": [
  {
   "cell_type": "code",
   "execution_count": 1,
   "metadata": {},
   "outputs": [],
   "source": [
    "import pandas as pd\n",
    "from selenium import webdriver\n",
    "from selenium.webdriver.common.by import By\n",
    "from selenium.webdriver.common.keys import Keys\n"
   ]
  },
  {
   "cell_type": "code",
   "execution_count": 2,
   "metadata": {},
   "outputs": [],
   "source": [
    "driver = webdriver.Edge()"
   ]
  },
  {
   "cell_type": "code",
   "execution_count": 4,
   "metadata": {},
   "outputs": [],
   "source": [
    "driver.get('https://www.amazon.com/')\n",
    "driver.implicitly_wait(20)"
   ]
  },
  {
   "cell_type": "code",
   "execution_count": 5,
   "metadata": {},
   "outputs": [],
   "source": [
    "driver.maximize_window()"
   ]
  },
  {
   "cell_type": "code",
   "execution_count": 6,
   "metadata": {},
   "outputs": [],
   "source": [
    "buscador = driver.find_element('id','twotabsearchtextbox')\n",
    "buscador.click()\n",
    "producto = 'luces gamer'\n",
    "buscador.send_keys(producto)\n",
    "lupa = driver.find_element('id','nav-search-submit-button')\n",
    "lupa.click()"
   ]
  },
  {
   "cell_type": "code",
   "execution_count": 7,
   "metadata": {},
   "outputs": [],
   "source": [
    "new_items = driver.find_element(By.XPATH,'//*[@id=\"p_n_condition-type/6358196011\"]/span/a/span')\n",
    "new_items.click()\n",
    "\n"
   ]
  },
  {
   "cell_type": "code",
   "execution_count": 8,
   "metadata": {},
   "outputs": [],
   "source": [
    "new_items = driver.find_element(By.XPATH,'//span[contains(@class, \"a-size-base\") and text()=\"New\"]')\n",
    "new_items.click()"
   ]
  },
  {
   "cell_type": "code",
   "execution_count": 9,
   "metadata": {},
   "outputs": [],
   "source": [
    "new_items = driver.find_element(By.XPATH,'//span[contains(@class, \"a-size-base\") and text()=\"Voice\"]')\n",
    "new_items.click()"
   ]
  },
  {
   "cell_type": "code",
   "execution_count": 10,
   "metadata": {},
   "outputs": [],
   "source": [
    "elemento_superior = driver.find_element(By.CSS_SELECTOR, '[data-component-type=\"s-search-results\"]')\n",
    "enlaces = elemento_superior.find_elements(By.CSS_SELECTOR, 'a.a-link-normal.s-no-outline')\n",
    "enlaces = enlaces[:10]\n",
    "hrefs = [enlace.get_attribute('href')for enlace in enlaces]"
   ]
  },
  {
   "cell_type": "code",
   "execution_count": 11,
   "metadata": {},
   "outputs": [
    {
     "data": {
      "text/plain": [
       "['https://www.amazon.com/sspa/click?ie=UTF8&spc=MTo0NTY2MjQ3OTYwOTczMDU5OjE3MzQ2NTI2ODE6c3BfYXRmOjMwMDU5MjI4MzMwNDYwMjo6MDo6&url=%2FMillion-Dynamic-Dimmable-Backlight-Lighting%2Fdp%2FB0D9JZJW77%2Fref%3Dsr_1_1_sspa%3Fcrid%3D3FC7UJ8Q8IVLR%26dib%3DeyJ2IjoiMSJ9.A-XtCnEpsCZ_pz45PhUr2zMAf8xWg1I5nA0pyWVcOEBK0_UG4EQ3lEftJLcNyXKswcxs8k0snJP06ik5LllE5iq_Kl0L2jWnIG5jjIV5BcuN6fmFUq07Ze-oCzOTq6AXxmnjSOxBIhv78sA3JcFEEyzvPCdyuBliHRTSJ_1syQ8rzj0sPviGG031oKYWbKJ-BmcBl7B19kLUBcBpgnUY3jesi8YAXk7Ht_k4cvFdVbkKxJw2zFEj_uFlVzIjlonNoThlivT5wR3sjLDjTMs6ElaPloVqO4zFxfJnf44T0Lw.76Lq8emKSqzBVb_PkrUk-ZtBpKlqPqtcxPRZGxAke3Y%26dib_tag%3Dse%26keywords%3Dluces%2Bgamer%26qid%3D1734652680%26refinements%3Dp_n_feature_sixteen_browse-bin%253A59788896011%26rnid%3D59788756011%26s%3Dhi%26sprefix%3D%252Caps%252C197%26sr%3D1-1-spons%26sp_csd%3Dd2lkZ2V0TmFtZT1zcF9hdGY%26psc%3D1',\n",
       " 'https://www.amazon.com/Govee-H6047-Controller-Specially-Assistant/dp/B0B6CQ2LQ2/ref=sr_1_2?crid=3FC7UJ8Q8IVLR&dib=eyJ2IjoiMSJ9.A-XtCnEpsCZ_pz45PhUr2zMAf8xWg1I5nA0pyWVcOEBK0_UG4EQ3lEftJLcNyXKswcxs8k0snJP06ik5LllE5iq_Kl0L2jWnIG5jjIV5BcuN6fmFUq07Ze-oCzOTq6AXxmnjSOxBIhv78sA3JcFEEyzvPCdyuBliHRTSJ_1syQ8rzj0sPviGG031oKYWbKJ-BmcBl7B19kLUBcBpgnUY3jesi8YAXk7Ht_k4cvFdVbkKxJw2zFEj_uFlVzIjlonNoThlivT5wR3sjLDjTMs6Eo_wB4fwZf1kn2Y9wA4Zws497NfozfKqJjkZ8BFUyV7ukOhSE5GrjwJpFtPZ-T0P83C6AO_kR1g0AI0SipSIGEE.jO5wFn-paxk5j_r8zn07BcNa8VjaKwe5WkgggaC83ck&dib_tag=se&keywords=luces+gamer&qid=1734652680&refinements=p_n_feature_sixteen_browse-bin%3A59788896011&rnid=59788756011&s=hi&sprefix=%2Caps%2C197&sr=1-2',\n",
       " 'https://www.amazon.com/Govee-Assistant-Backlights-Pictures-Decoration/dp/B096WZXKZP/ref=sr_1_3?crid=3FC7UJ8Q8IVLR&dib=eyJ2IjoiMSJ9.A-XtCnEpsCZ_pz45PhUr2zMAf8xWg1I5nA0pyWVcOEBK0_UG4EQ3lEftJLcNyXKswcxs8k0snJP06ik5LllE5iq_Kl0L2jWnIG5jjIV5BcuN6fmFUq07Ze-oCzOTq6AXxmnjSOxBIhv78sA3JcFEEyzvPCdyuBliHRTSJ_1syQ8rzj0sPviGG031oKYWbKJ-BmcBl7B19kLUBcBpgnUY3jesi8YAXk7Ht_k4cvFdVbkKxJw2zFEj_uFlVzIjlonNoThlivT5wR3sjLDjTMs6Eo_wB4fwZf1kn2Y9wA4Zws497NfozfKqJjkZ8BFUyV7ukOhSE5GrjwJpFtPZ-T0P83C6AO_kR1g0AI0SipSIGEE.jO5wFn-paxk5j_r8zn07BcNa8VjaKwe5WkgggaC83ck&dib_tag=se&keywords=luces+gamer&qid=1734652680&refinements=p_n_feature_sixteen_browse-bin%3A59788896011&rnid=59788756011&s=hi&sprefix=%2Caps%2C197&sr=1-3',\n",
       " 'https://www.amazon.com/Govee-Lighting-Syncing-Support-Cutting/dp/B0BXNCRPS1/ref=sr_1_4?crid=3FC7UJ8Q8IVLR&dib=eyJ2IjoiMSJ9.A-XtCnEpsCZ_pz45PhUr2zMAf8xWg1I5nA0pyWVcOEBK0_UG4EQ3lEftJLcNyXKswcxs8k0snJP06ik5LllE5iq_Kl0L2jWnIG5jjIV5BcuN6fmFUq07Ze-oCzOTq6AXxmnjSOxBIhv78sA3JcFEEyzvPCdyuBliHRTSJ_1syQ8rzj0sPviGG031oKYWbKJ-BmcBl7B19kLUBcBpgnUY3jesi8YAXk7Ht_k4cvFdVbkKxJw2zFEj_uFlVzIjlonNoThlivT5wR3sjLDjTMs6Eo_wB4fwZf1kn2Y9wA4Zws497NfozfKqJjkZ8BFUyV7ukOhSE5GrjwJpFtPZ-T0P83C6AO_kR1g0AI0SipSIGEE.jO5wFn-paxk5j_r8zn07BcNa8VjaKwe5WkgggaC83ck&dib_tag=se&keywords=luces+gamer&qid=1734652680&refinements=p_n_feature_sixteen_browse-bin%3A59788896011&rnid=59788756011&s=hi&sprefix=%2Caps%2C197&sr=1-4',\n",
       " 'https://aax-us-east.amazon-adsystem.com/x/c/JF1pI9DBP1s5PuB3FzhafPgAAAGT4Vtb7wEAAAH2AQBvbm9fdHhuX2JpZDYgICBvbm9fdHhuX2ltcDIgICC7wW3n/clv1_CEuOPUxokZA0iHrVatguwXr1bTZEQLlw6LcMxRuk77Mw4X9ty3K6K_w18nHE8xvWjq0yzpNb3XTPsunPkGQceXhcNCPJM-e1LFMOIx1RQGuGMp4s-BYOLZEdHEepgoWmXJOUalC7tdMeWEwmgVz7bV1AckwCRMN0CRVmUax7QwuP3u3MgFIzS1q5d5TuNOspGHpbasDVlJ1bT2hxC9tUMuUFm8yvmtV0DgjzOKVy-i0Vs7d2vLK7GWsuqRqJ-0hcN3jpMffPnUdL6EcIGehGNjG2TyWXqBLNCd7m6b_pSZUgD1ig-I6A-jeRfQn-Noa5zvEy2ttTEOHVkoDFKNS0C_pahM59cjYulpU4wfVsPpln11Z5KUuB8SGc0Mkhb2ysag9vk2G_vH8ppSr1AoykS24BZM7zucVmVbcmG3VHnlJ_MfhRt19KAG1Hvpd3Q2koAbqwPfPKm_u0cBUSbzW9h64seRWsqluyb3Ntfr0lnYSUFltD_aimrxjndUtzPorrnvZ40wtDKa0unBuDhQ2HzTTvcRl2QnddGximBg3wEK3_Lx68CwRd3khEWEv4Sj_iavomu_54Xjy4jKdeicYpBDSaDgNozSlg2fwasLeDvB86l6-_4pY7dnDDy1-xU62qLFwYFPQSBENoz9pGEaxLugc32_zRAyQkcUU_uc1v-J0wI2MyXSeNkV4bnjbvBtQH4wQO12pv-tkc18V4FUybDXAwxqX4Gt7m7JnpfGhRBAD3rg_yTIxg3jVp7sUbZebOsohNRwPjjlDD3Dj4AXXHMiM9mgf6U1Vonf5Ma8pQYAqY_FQxM-tOuhtjtp6VS0CZeMeZXz926QrElchTfuFSlqr4qV8Su9uvIr3VsuT7qhqO_2HV2k8PxSvIpESgkBr-hdsehu8bkTzyG5ErU-cEZcGN_tOwpDVePAkOACbKsCD9iQ9pPTQbX3tDew3WwkamqgeMbOqe27aK9_jjxTCkW7pxaN6FRZ7zwz7NdRB8DOgEaDdkemN7VrHTyQnIP0YcLwiD65hQwA8RfKY-yZGP6yBOoSNRMcS0kXhb15hWl3hoZmTmaoWWJTvbV5JyDcpGTHeSe7vuNjcjOKK5VK2mpufjCiXUwLtQfpIPWzVRG7WTDSe4DctIo1VsKK-Mv_Kwt8gmT9zMhTIOMMVbk3oKYFogYufOKVTPGdAQsKr6hpevwj-k50nQ6LolqB1KfdImNH-FNWHT5HymcwAarFjRC--isN1VuvxJ9gWOh7hzDGroN20lXHGk-mGC00oYFYbkSepwjdmdWmTKY71ierUIqGJy5otOv7i841GttHmaJu7Vdf9qQpv4nvIQiDydw6Y7HoBmfh2Y4ljDm7tzclw444TF890volxfX_FzPNVigoUjujyXDVeruNqXJWajQZFlKCDqXlCqfTrwakIdWLClb4iQuh6mCH51yYZZ1vHypntwaV941aoDFtweEDbcNQWhyHQOB33HkIK_oBHqLQTwfmbP2GGOePUp75kWmN0szjItu3PPFnCIMX17geAFtMyZr3v0WiN5TZtZCbPHRuAWFD_Woc33d0atMTbfdZYosJ-198qQ2P6DTY9MBf84j_k3W57RNFPqm8TzduacQqC8lLohlV5MJjeyKbG_NOEReghlQx8f-cXgUnhQwSlnX8LkKm2ZQiSWkvhPDCPKmikSiqwIWifwcEQiTOF4rt0kWOuzJMZhvInrA3YlxcPg-rqkvf95N7CC9BZUo3Xf7N1bBw7e8CtFriqH66FjDAnc_2OCgvLHgdsBc59UwUz2I_dkjZIUwNHS3n4RSIEEUo5vzX0BMcbpnGrfu5vMQWGd3-MuppA48pfrCbFarJfC/https://www.amazon.com/Lepro-Generated-LightBeats-Recognition-Bluetooth/dp/B0CRVJB51L/ref=sxin_16_sbv_search_btf?content-id=amzn1.sym.7882fadb-3c55-43b6-9348-987776d1bf19%3Aamzn1.sym.7882fadb-3c55-43b6-9348-987776d1bf19&crid=3FC7UJ8Q8IVLR&cv_ct_cx=luces+gamer&keywords=luces+gamer&pd_rd_i=B0CRVJB51L&pd_rd_r=2c713ed0-4e1b-4e14-8b54-b6bf22cfb377&pd_rd_w=LnZ3e&pd_rd_wg=Rqp0B&pf_rd_p=7882fadb-3c55-43b6-9348-987776d1bf19&pf_rd_r=V7GSYRS5PYX33MHPFHPZ&qid=1734652680&refinements=p_n_feature_sixteen_browse-bin%3A59788896011&rnid=59788756011&s=hi&sbo=RZvfv%2F%2FHxDF%2BO5021pAnSA%3D%3D&sprefix=%2Caps%2C197&sr=1-1-b5e7416a-f1a4-4431-abef-1e50147a4eee',\n",
       " 'https://aax-us-east.amazon-adsystem.com/x/c/JF1pI9DBP1s5PuB3FzhafPgAAAGT4Vtb7wEAAAH2AQBvbm9fdHhuX2JpZDYgICBvbm9fdHhuX2ltcDIgICC7wW3n/clv1_CEuOPUxokZA0iHrVatguwXr1bTZEQLlw6LcMxRuk77Mw4X9ty3K6K_w18nHE8xvWjq0yzpNb3XTPsunPkGQceXhcNCPJM-e1LFMOIx1RQGuGMp4s-BYOLZEdHEepgoWmXJOUalC7tdMeWEwmgVz7bV1AckwCRMN0CRVmUax7QwuP3u3MgFIzS1q5d5TuNOspGHpbasDVlJ1bT2hxC9tUMuUFm8yvmtV0DgjzOKVy-i0Vs7d2vLK7GWsuqRqJ-0hcN3jpMffPnUdL6EcIGehGNjG2TyWXqBLNCd7m6b_pSZUgD1ig-I6A-jeRfQn-Noa5zvEy2ttTEOHVkoDFKNS0C_pahM59cjYulpU4wfVsPpln11Z5KUuB8SGc0Mkhb2ysag9vk2G_vH8ppSr1AoykS24BZM7zucVmVbcmG3VHnlJ_MfhRt19KAG1Hvpd3Q2koAbqwPfPKm_u0cBUSbzW9h64seRWsqluyb3Ntfr0lnYSUFltD_aimrxjndUtzPorrnvZ40wtDKa0unBuDhQ2HzTTvcRl2QnddGximBg3wEK3_Lx68CwRd3khEWEv4Sj_iavomu_54Xjy4jKdeicYpBDSaDgNozSlg2fwasLeDvB86l6-_4pY7dnDDy1-xU62qLFwYFPQSBENoz9pGEaxLugc32_zRAyQkcUU_uc1v-J0wI2MyXSeNkV4bnjbvBtQH4wQO12pv-tkc18V4FUybDXAwxqX4Gt7m7JnpfGhRBAD3rg_yTIxg3jVp7sUbZebOsohNRwPjjlDD3Dj4AXXHMiM9mgf6U1Vonf5Ma8pQYAqY_FQxM-tOuhtjtp6VS0CZeMeZXz926QrElchTfuFSlqr4qV8Su9uvIr3VsuT7qhqO_2HV2k8PxSvIpESgkBr-hdsehu8bkTzyG5ErU-cEZcGN_tOwpDVePAkOACbKsCD9iQ9pPTQbX3tDew3WwkamqgeMbOqe27aK9_jjxTCkW7pxaN6FRZ7zwz7NdRB8DOgEaDdkemN7VrHTyQnIP0YcLwiD65hQwA8RfKY-yZGP6yBOoSNRMcS0kXhb15hWl3hoZmTmaoWWJTvbV5JyDcpGTHeSe7vuNjcjOKK5VK2mpufjCiXUwLtQfpIPWzVRG7WTDSe4DctIo1VsKK-Mv_Kwt8gmT9zMhTIOMMVbk3oKYFogYufOKVTPGdAQsKr6hpevwj-k50nQ6LolqB1KfdImNH-FNWHT5HymcwAarFjRC--isN1VuvxJ9gWOh7hzDGroN20lXHGk-mGC00oYFYbkSepwjdmdWmTKY71ierUIqGJy5otOv7i841GttHmaJu7Vdf9qQpv4nvIQiDydw6Y7HoBmfh2Y4ljDm7tzclw444TF890volxfX_FzPNVigoUjujyXDVeruNqXJWajQZFlKCDqXlCqfTrwakIdWLClb4iQuh6mCH51yYZZ1vHypntwaV941aoDFtweEDbcNQWhyHQOB33HkIK_oBHqLQTwfmbP2GGOePUp75kWmN0szjItu3PPFnCIMX17geAFtMyZr3v0WiN5TZtZCbPHRuAWFD_Woc33d0atMTbfdZYosJ-198qQ2P6DTY9MBf84j_k3W57RNFPqm8TzduacQqC8lLohlV5MJjeyKbG_NOEReghlQx8f-cXgUnhQwSlnX8LkKm2ZQiSWkvhPDCPKmikSiqwIWifwcEQiTOF4rt0kWOuzJMZhvInrA3YlxcPg-rqkvf95N7CC9BZUo3Xf7N1bBw7e8CtFriqH66FjDAnc_2OCgvLHgdsBc59UwUz2I_dkjZIUwNHS3n4RSIEEUo5vzX0BMcbpnGrfu5vMQWGd3-MuppA48pfrCbFarJfC/https://www.amazon.com/Lepro-Generated-LightBeats-Recognition-Bluetooth/dp/B0CRVJB51L/ref=sxin_16_sbv_search_btf?content-id=amzn1.sym.7882fadb-3c55-43b6-9348-987776d1bf19%3Aamzn1.sym.7882fadb-3c55-43b6-9348-987776d1bf19&crid=3FC7UJ8Q8IVLR&cv_ct_cx=luces+gamer&keywords=luces+gamer&pd_rd_i=B0CRVJB51L&pd_rd_r=2c713ed0-4e1b-4e14-8b54-b6bf22cfb377&pd_rd_w=LnZ3e&pd_rd_wg=Rqp0B&pf_rd_p=7882fadb-3c55-43b6-9348-987776d1bf19&pf_rd_r=V7GSYRS5PYX33MHPFHPZ&qid=1734652680&refinements=p_n_feature_sixteen_browse-bin%3A59788896011&rnid=59788756011&s=hi&sbo=RZvfv%2F%2FHxDF%2BO5021pAnSA%3D%3D&sprefix=%2Caps%2C197&sr=1-1-b5e7416a-f1a4-4431-abef-1e50147a4eee',\n",
       " 'https://www.amazon.com/Govee-Evangelion-H6047-Controller-Assistant/dp/B0D672GP6T/ref=sr_1_5?crid=3FC7UJ8Q8IVLR&dib=eyJ2IjoiMSJ9.A-XtCnEpsCZ_pz45PhUr2zMAf8xWg1I5nA0pyWVcOEBK0_UG4EQ3lEftJLcNyXKswcxs8k0snJP06ik5LllE5iq_Kl0L2jWnIG5jjIV5BcuN6fmFUq07Ze-oCzOTq6AXxmnjSOxBIhv78sA3JcFEEyzvPCdyuBliHRTSJ_1syQ8rzj0sPviGG031oKYWbKJ-BmcBl7B19kLUBcBpgnUY3jesi8YAXk7Ht_k4cvFdVbkKxJw2zFEj_uFlVzIjlonNoThlivT5wR3sjLDjTMs6Eo_wB4fwZf1kn2Y9wA4Zws497NfozfKqJjkZ8BFUyV7ukOhSE5GrjwJpFtPZ-T0P83C6AO_kR1g0AI0SipSIGEE.jO5wFn-paxk5j_r8zn07BcNa8VjaKwe5WkgggaC83ck&dib_tag=se&keywords=luces+gamer&qid=1734652680&refinements=p_n_feature_sixteen_browse-bin%3A59788896011&rnid=59788756011&s=hi&sprefix=%2Caps%2C197&sr=1-5',\n",
       " 'https://www.amazon.com/GUPUP-Bedroom-Changing-Controlled-Bluetooth/dp/B08NPHGFDN/ref=sr_1_6?crid=3FC7UJ8Q8IVLR&dib=eyJ2IjoiMSJ9.A-XtCnEpsCZ_pz45PhUr2zMAf8xWg1I5nA0pyWVcOEBK0_UG4EQ3lEftJLcNyXKswcxs8k0snJP06ik5LllE5iq_Kl0L2jWnIG5jjIV5BcuN6fmFUq07Ze-oCzOTq6AXxmnjSOxBIhv78sA3JcFEEyzvPCdyuBliHRTSJ_1syQ8rzj0sPviGG031oKYWbKJ-BmcBl7B19kLUBcBpgnUY3jesi8YAXk7Ht_k4cvFdVbkKxJw2zFEj_uFlVzIjlonNoThlivT5wR3sjLDjTMs6Eo_wB4fwZf1kn2Y9wA4Zws497NfozfKqJjkZ8BFUyV7ukOhSE5GrjwJpFtPZ-T0P83C6AO_kR1g0AI0SipSIGEE.jO5wFn-paxk5j_r8zn07BcNa8VjaKwe5WkgggaC83ck&dib_tag=se&keywords=luces+gamer&qid=1734652680&refinements=p_n_feature_sixteen_browse-bin%3A59788896011&rnid=59788756011&s=hi&sprefix=%2Caps%2C197&sr=1-6',\n",
       " 'https://www.amazon.com/Govee-Backlight-Multiple-Placement-Assistant/dp/B0B14V95FJ/ref=sr_1_7?crid=3FC7UJ8Q8IVLR&dib=eyJ2IjoiMSJ9.A-XtCnEpsCZ_pz45PhUr2zMAf8xWg1I5nA0pyWVcOEBK0_UG4EQ3lEftJLcNyXKswcxs8k0snJP06ik5LllE5iq_Kl0L2jWnIG5jjIV5BcuN6fmFUq07Ze-oCzOTq6AXxmnjSOxBIhv78sA3JcFEEyzvPCdyuBliHRTSJ_1syQ8rzj0sPviGG031oKYWbKJ-BmcBl7B19kLUBcBpgnUY3jesi8YAXk7Ht_k4cvFdVbkKxJw2zFEj_uFlVzIjlonNoThlivT5wR3sjLDjTMs6Eo_wB4fwZf1kn2Y9wA4Zws497NfozfKqJjkZ8BFUyV7ukOhSE5GrjwJpFtPZ-T0P83C6AO_kR1g0AI0SipSIGEE.jO5wFn-paxk5j_r8zn07BcNa8VjaKwe5WkgggaC83ck&dib_tag=se&keywords=luces+gamer&qid=1734652680&refinements=p_n_feature_sixteen_browse-bin%3A59788896011&rnid=59788756011&s=hi&sprefix=%2Caps%2C197&sr=1-7',\n",
       " 'https://www.amazon.com/APPECK-Ambiance-Assistant-Backlights-Decoration/dp/B0B6HLPZZK/ref=sr_1_8?crid=3FC7UJ8Q8IVLR&dib=eyJ2IjoiMSJ9.A-XtCnEpsCZ_pz45PhUr2zMAf8xWg1I5nA0pyWVcOEBK0_UG4EQ3lEftJLcNyXKswcxs8k0snJP06ik5LllE5iq_Kl0L2jWnIG5jjIV5BcuN6fmFUq07Ze-oCzOTq6AXxmnjSOxBIhv78sA3JcFEEyzvPCdyuBliHRTSJ_1syQ8rzj0sPviGG031oKYWbKJ-BmcBl7B19kLUBcBpgnUY3jesi8YAXk7Ht_k4cvFdVbkKxJw2zFEj_uFlVzIjlonNoThlivT5wR3sjLDjTMs6Eo_wB4fwZf1kn2Y9wA4Zws497NfozfKqJjkZ8BFUyV7ukOhSE5GrjwJpFtPZ-T0P83C6AO_kR1g0AI0SipSIGEE.jO5wFn-paxk5j_r8zn07BcNa8VjaKwe5WkgggaC83ck&dib_tag=se&keywords=luces+gamer&qid=1734652680&refinements=p_n_feature_sixteen_browse-bin%3A59788896011&rnid=59788756011&s=hi&sprefix=%2Caps%2C197&sr=1-8']"
      ]
     },
     "execution_count": 11,
     "metadata": {},
     "output_type": "execute_result"
    }
   ],
   "source": [
    "hrefs"
   ]
  },
  {
   "cell_type": "code",
   "execution_count": 15,
   "metadata": {},
   "outputs": [
    {
     "data": {
      "text/html": [
       "<div>\n",
       "<style scoped>\n",
       "    .dataframe tbody tr th:only-of-type {\n",
       "        vertical-align: middle;\n",
       "    }\n",
       "\n",
       "    .dataframe tbody tr th {\n",
       "        vertical-align: top;\n",
       "    }\n",
       "\n",
       "    .dataframe thead th {\n",
       "        text-align: right;\n",
       "    }\n",
       "</style>\n",
       "<table border=\"1\" class=\"dataframe\">\n",
       "  <thead>\n",
       "    <tr style=\"text-align: right;\">\n",
       "      <th></th>\n",
       "      <th>pag</th>\n",
       "      <th>titulo</th>\n",
       "    </tr>\n",
       "  </thead>\n",
       "  <tbody>\n",
       "    <tr>\n",
       "      <th>0</th>\n",
       "      <td>https://www.amazon.com/sspa/click?ie=UTF8&amp;spc=...</td>\n",
       "      <td>Amazon.com: Smart LED Light Bars, 11\" RGB+IC G...</td>\n",
       "    </tr>\n",
       "    <tr>\n",
       "      <th>1</th>\n",
       "      <td>https://www.amazon.com/Govee-H6047-Controller-...</td>\n",
       "      <td>Amazon.com: Govee RGBIC Gaming Light Bars H604...</td>\n",
       "    </tr>\n",
       "    <tr>\n",
       "      <th>2</th>\n",
       "      <td>https://www.amazon.com/Govee-Assistant-Backlig...</td>\n",
       "      <td>Amazon.com: Govee Smart LED Light Bars, Work w...</td>\n",
       "    </tr>\n",
       "    <tr>\n",
       "      <th>3</th>\n",
       "      <td>https://www.amazon.com/Govee-Lighting-Syncing-...</td>\n",
       "      <td>Amazon.com: Govee RGBIC Gaming Lights, 10ft Ne...</td>\n",
       "    </tr>\n",
       "    <tr>\n",
       "      <th>4</th>\n",
       "      <td>https://aax-us-east.amazon-adsystem.com/x/c/JF...</td>\n",
       "      <td>Amazon.com: Lepro N1 AI Smart RGB Rope Lights ...</td>\n",
       "    </tr>\n",
       "    <tr>\n",
       "      <th>5</th>\n",
       "      <td>https://www.amazon.com/Govee-Evangelion-H6047-...</td>\n",
       "      <td>Amazon.com: Govee x Evangelion RGBIC Gaming Li...</td>\n",
       "    </tr>\n",
       "    <tr>\n",
       "      <th>6</th>\n",
       "      <td>https://www.amazon.com/GUPUP-Bedroom-Changing-...</td>\n",
       "      <td>Amazon.com: GUPUP LED Strip Lights,Rope Lights...</td>\n",
       "    </tr>\n",
       "    <tr>\n",
       "      <th>7</th>\n",
       "      <td>https://www.amazon.com/Govee-Backlight-Multipl...</td>\n",
       "      <td>Amazon.com: Govee RGBIC Light Bars, 15 Inches ...</td>\n",
       "    </tr>\n",
       "    <tr>\n",
       "      <th>8</th>\n",
       "      <td>https://www.amazon.com/APPECK-Ambiance-Assista...</td>\n",
       "      <td>Amazon.com: APPECK Smart LED Light Bars, RGBIC...</td>\n",
       "    </tr>\n",
       "  </tbody>\n",
       "</table>\n",
       "</div>"
      ],
      "text/plain": [
       "                                                 pag  \\\n",
       "0  https://www.amazon.com/sspa/click?ie=UTF8&spc=...   \n",
       "1  https://www.amazon.com/Govee-H6047-Controller-...   \n",
       "2  https://www.amazon.com/Govee-Assistant-Backlig...   \n",
       "3  https://www.amazon.com/Govee-Lighting-Syncing-...   \n",
       "4  https://aax-us-east.amazon-adsystem.com/x/c/JF...   \n",
       "5  https://www.amazon.com/Govee-Evangelion-H6047-...   \n",
       "6  https://www.amazon.com/GUPUP-Bedroom-Changing-...   \n",
       "7  https://www.amazon.com/Govee-Backlight-Multipl...   \n",
       "8  https://www.amazon.com/APPECK-Ambiance-Assista...   \n",
       "\n",
       "                                              titulo  \n",
       "0  Amazon.com: Smart LED Light Bars, 11\" RGB+IC G...  \n",
       "1  Amazon.com: Govee RGBIC Gaming Light Bars H604...  \n",
       "2  Amazon.com: Govee Smart LED Light Bars, Work w...  \n",
       "3  Amazon.com: Govee RGBIC Gaming Lights, 10ft Ne...  \n",
       "4  Amazon.com: Lepro N1 AI Smart RGB Rope Lights ...  \n",
       "5  Amazon.com: Govee x Evangelion RGBIC Gaming Li...  \n",
       "6  Amazon.com: GUPUP LED Strip Lights,Rope Lights...  \n",
       "7  Amazon.com: Govee RGBIC Light Bars, 15 Inches ...  \n",
       "8  Amazon.com: APPECK Smart LED Light Bars, RGBIC...  "
      ]
     },
     "execution_count": 15,
     "metadata": {},
     "output_type": "execute_result"
    }
   ],
   "source": [
    "dict = {}\n",
    "for href in hrefs:\n",
    "    driver.get(href)\n",
    "    dict[href] = driver.title\n",
    "\n",
    "# Crear un DataFrame con dos columnas: 'pag' y 'titulo'\n",
    "df = pd.DataFrame(list(dict.items()), columns=['pag', 'titulo'])\n",
    "df"
   ]
  }
 ],
 "metadata": {
  "kernelspec": {
   "display_name": "webscraping",
   "language": "python",
   "name": "python3"
  },
  "language_info": {
   "codemirror_mode": {
    "name": "ipython",
    "version": 3
   },
   "file_extension": ".py",
   "mimetype": "text/x-python",
   "name": "python",
   "nbconvert_exporter": "python",
   "pygments_lexer": "ipython3",
   "version": "3.9.21"
  }
 },
 "nbformat": 4,
 "nbformat_minor": 2
}
